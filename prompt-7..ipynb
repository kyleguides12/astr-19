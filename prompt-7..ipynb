import numpy as np
import matplotlib.pyplot as plt

x = np.linspace(0, 1, 100)


def exp_function(x):
    return np.exp(x)

# set y = exp(x)
y = exp_function(x)

# Plot x vs. y
plt.plot(x, y)
plt.xlabel("Time [milliseconds]")
plt.ylabel("Awesomeness")
plt.title("Plot of Awesomeness over Time")

# Save the plot as a PDF
plt.savefig("plot_awesomeness_vs_time.pdf")

# Display 
plt.show()

